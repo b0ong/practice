{
 "cells": [
  {
   "cell_type": "code",
   "execution_count": null,
   "metadata": {},
   "outputs": [],
   "source": [
    "## 컴퓨터 입장에서는 메모리값을 저장하는 것\n",
    "a = 5"
   ]
  },
  {
   "cell_type": "markdown",
   "metadata": {},
   "source": [
    "### 변수정의"
   ]
  },
  {
   "cell_type": "code",
   "execution_count": null,
   "metadata": {},
   "outputs": [],
   "source": [
    "\"\"\"\n",
    "데이터 타입의 구분\n",
    "<한개의 값을 저장하는 타입>\n",
    "- 일반변수라고 한다\n",
    "- int, str, float, bool\n",
    "\n",
    "<여러개의 값을 저장하는 타입>\n",
    "- List, Dict, Tuple, DataFrame\n",
    "\"\"\"\n"
   ]
  },
  {
   "cell_type": "code",
   "execution_count": 3,
   "metadata": {},
   "outputs": [
    {
     "name": "stdout",
     "output_type": "stream",
     "text": [
      "10\n",
      "aaa\n",
      "10.5\n"
     ]
    }
   ],
   "source": [
    "### < 한개의 값을 저장하는 타입>\n",
    "# 타입이 정해지는 시점: 값이 정의 될 때\n",
    "# 하나의 변수에 여러 타입을 수정해서 넣을 수 있다.\n",
    "# 파이썬에서는 '=' 을 할당연산자라고 한다.\n",
    "\n",
    "### a라는 변수에 10이라는 정수값을 넣어라\n",
    "# 하나의 메모리 공간에 10이라는 값을 넣어서, 메모리 주소를 a라는 변수에 넣는다.(파이썬 입장해석)\n",
    "\n",
    "a = 10\n",
    "print(a)\n",
    "a = \"aaa\"\n",
    "print(a)\n",
    "a = 10.5\n",
    "print(a)\n",
    "a = True"
   ]
  },
  {
   "cell_type": "code",
   "execution_count": 4,
   "metadata": {},
   "outputs": [
    {
     "data": {
      "text/plain": [
       "[10, 'aaa', 10.5, True]"
      ]
     },
     "execution_count": 4,
     "metadata": {},
     "output_type": "execute_result"
    }
   ],
   "source": [
    "# <여러개의 값을 저장하는 타입>\n",
    "# - List, Dict, Tuple, DataFrame\n",
    "# 사용하는 기호에 따른 구분\n",
    "# - List: [] -> 여러 자료형의 데이터를 담을 수 있음 (순서 = index가 있음)\n",
    "# - Dict: {} -> 여러 자료형의 데이터를 key : value 형태로 담을 수 있음(순서가 없음)\n",
    "# - Tuple: () -> 리스트와 동일하게 사용되며, 다만 수정을 못한다는 차이점만 있음\n",
    "\n",
    "a_list = [10, \"aaa\", 10.5, True] # 전체 메모리 차지 공간은 5개이다.\n",
    "a_list"
   ]
  },
  {
   "cell_type": "code",
   "execution_count": 7,
   "metadata": {},
   "outputs": [
    {
     "data": {
      "text/plain": [
       "'aaa'"
      ]
     },
     "execution_count": 7,
     "metadata": {},
     "output_type": "execute_result"
    }
   ],
   "source": [
    "a = 20\n",
    "b_list = [a,a_list]\n",
    "b_list[1][1]"
   ]
  },
  {
   "cell_type": "code",
   "execution_count": 13,
   "metadata": {},
   "outputs": [
    {
     "data": {
      "text/plain": [
       "'abc'"
      ]
     },
     "execution_count": 13,
     "metadata": {},
     "output_type": "execute_result"
    }
   ],
   "source": [
    "a_str = \"abcde\"\n",
    "a_str[0], a_str[1]\n",
    "a_str[0:3]"
   ]
  },
  {
   "cell_type": "code",
   "execution_count": 36,
   "metadata": {},
   "outputs": [
    {
     "data": {
      "text/plain": [
       "{'name': '장경호', 'age': 29, 'area': '거제통'}"
      ]
     },
     "execution_count": 36,
     "metadata": {},
     "output_type": "execute_result"
    }
   ],
   "source": [
    "# 메모리 공간 10개 데이터값은 3개\n",
    "dict_data = {\"name\" : \"장경호\", \"age\" : 29, \"area\" : \"거제통\"}\n",
    "# dict_data['add'] = \"일광\"\n",
    "# dict_data[\"name\"] = \"한국진\"\n",
    "dict_data"
   ]
  },
  {
   "cell_type": "code",
   "execution_count": 24,
   "metadata": {},
   "outputs": [],
   "source": [
    "b_list.append(\"임경세\")"
   ]
  },
  {
   "cell_type": "code",
   "execution_count": 25,
   "metadata": {},
   "outputs": [
    {
     "data": {
      "text/plain": [
       "[20, [10, 'aaa', 10.5, True], '임경세']"
      ]
     },
     "execution_count": 25,
     "metadata": {},
     "output_type": "execute_result"
    }
   ],
   "source": [
    "b_list"
   ]
  },
  {
   "cell_type": "code",
   "execution_count": 26,
   "metadata": {},
   "outputs": [
    {
     "data": {
      "text/plain": [
       "dict_keys(['name', 'age', 'area'])"
      ]
     },
     "execution_count": 26,
     "metadata": {},
     "output_type": "execute_result"
    }
   ],
   "source": [
    "## 딕셔너리 -> key값 조회하기\n",
    "dict_data.keys()"
   ]
  },
  {
   "cell_type": "code",
   "execution_count": 27,
   "metadata": {},
   "outputs": [
    {
     "data": {
      "text/plain": [
       "dict_values(['장경호', 29, '거제통'])"
      ]
     },
     "execution_count": 27,
     "metadata": {},
     "output_type": "execute_result"
    }
   ],
   "source": [
    "dict_data.values()"
   ]
  },
  {
   "cell_type": "code",
   "execution_count": 28,
   "metadata": {},
   "outputs": [
    {
     "data": {
      "text/plain": [
       "dict_items([('name', '장경호'), ('age', 29), ('area', '거제통')])"
      ]
     },
     "execution_count": 28,
     "metadata": {},
     "output_type": "execute_result"
    }
   ],
   "source": [
    "dict_data.items()"
   ]
  },
  {
   "cell_type": "code",
   "execution_count": 38,
   "metadata": {},
   "outputs": [
    {
     "data": {
      "text/plain": [
       "4"
      ]
     },
     "execution_count": 38,
     "metadata": {},
     "output_type": "execute_result"
    }
   ],
   "source": [
    "a_list\n",
    "len(a_list)"
   ]
  },
  {
   "cell_type": "code",
   "execution_count": 41,
   "metadata": {},
   "outputs": [
    {
     "name": "stdout",
     "output_type": "stream",
     "text": [
      "10\n",
      "aaa\n",
      "10.5\n",
      "True\n"
     ]
    }
   ],
   "source": [
    "## a_list의 값들을 for 반복문을 이용해서 출력하기.\n",
    "# 반복문 사용방법 1: 인덱스 번호를 이용하는 방법\n",
    "# for(int i = 0; i<10; i++)\n",
    "for i in range(0, len(a_list), 1): # 0부터 10까지 1씩 증가 시켜라\n",
    "    print(a_list[i])"
   ]
  },
  {
   "cell_type": "code",
   "execution_count": 42,
   "metadata": {},
   "outputs": [
    {
     "name": "stdout",
     "output_type": "stream",
     "text": [
      "10\n",
      "aaa\n",
      "10.5\n",
      "True\n"
     ]
    }
   ],
   "source": [
    "# 반복문 사용방법 2: 값을 이용하는 방법\n",
    "for v in a_list: # 0부터 10까지 1씩 증가 시켜라\n",
    "    print(v)"
   ]
  },
  {
   "cell_type": "code",
   "execution_count": 45,
   "metadata": {},
   "outputs": [
    {
     "data": {
      "text/plain": [
       "{'name': '장경호', 'age': 29, 'area': '거제통'}"
      ]
     },
     "execution_count": 45,
     "metadata": {},
     "output_type": "execute_result"
    }
   ],
   "source": [
    "dict_data"
   ]
  },
  {
   "cell_type": "code",
   "execution_count": 47,
   "metadata": {},
   "outputs": [
    {
     "name": "stdout",
     "output_type": "stream",
     "text": [
      "장경호\n",
      "29\n",
      "거제통\n"
     ]
    }
   ],
   "source": [
    "for i in dict_data.values():\n",
    "    print(i)"
   ]
  },
  {
   "cell_type": "code",
   "execution_count": 50,
   "metadata": {},
   "outputs": [
    {
     "name": "stdout",
     "output_type": "stream",
     "text": [
      "장경호\n",
      "29\n",
      "거제통\n"
     ]
    }
   ],
   "source": [
    "for k in dict_data.keys():\n",
    "    print(dict_data[k])"
   ]
  },
  {
   "cell_type": "code",
   "execution_count": 51,
   "metadata": {},
   "outputs": [
    {
     "name": "stdout",
     "output_type": "stream",
     "text": [
      "name = 장경호\n",
      "age = 29\n",
      "area = 거제통\n"
     ]
    }
   ],
   "source": [
    "for k in dict_data.keys():\n",
    "    print(f'{k} = {dict_data[k]}')"
   ]
  },
  {
   "cell_type": "code",
   "execution_count": 52,
   "metadata": {},
   "outputs": [
    {
     "data": {
      "text/plain": [
       "dict_items([('name', '장경호'), ('age', 29), ('area', '거제통')])"
      ]
     },
     "execution_count": 52,
     "metadata": {},
     "output_type": "execute_result"
    }
   ],
   "source": [
    "dict_data.items()"
   ]
  },
  {
   "cell_type": "code",
   "execution_count": 53,
   "metadata": {},
   "outputs": [
    {
     "data": {
      "text/plain": [
       "('abc', 'def')"
      ]
     },
     "execution_count": 53,
     "metadata": {},
     "output_type": "execute_result"
    }
   ],
   "source": [
    "'abc','def'"
   ]
  },
  {
   "cell_type": "code",
   "execution_count": 55,
   "metadata": {},
   "outputs": [
    {
     "name": "stdout",
     "output_type": "stream",
     "text": [
      "name 장경호\n",
      "age 29\n",
      "area 거제통\n"
     ]
    }
   ],
   "source": [
    "for k, v in dict_data.items():\n",
    "    print(k,v)"
   ]
  }
 ],
 "metadata": {
  "kernelspec": {
   "display_name": "Python 3",
   "language": "python",
   "name": "python3"
  },
  "language_info": {
   "codemirror_mode": {
    "name": "ipython",
    "version": 3
   },
   "file_extension": ".py",
   "mimetype": "text/x-python",
   "name": "python",
   "nbconvert_exporter": "python",
   "pygments_lexer": "ipython3",
   "version": "3.12.2"
  }
 },
 "nbformat": 4,
 "nbformat_minor": 2
}
