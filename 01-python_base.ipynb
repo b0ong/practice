{
 "cells": [
  {
   "cell_type": "code",
   "execution_count": 58,
   "metadata": {},
   "outputs": [],
   "source": [
    "## 컴퓨터 입장에서는 메모리값을 저장하는 것\n",
    "a = 5"
   ]
  },
  {
   "cell_type": "markdown",
   "metadata": {},
   "source": [
    "### 변수정의"
   ]
  },
  {
   "cell_type": "code",
   "execution_count": 59,
   "metadata": {},
   "outputs": [
    {
     "data": {
      "text/plain": [
       "'\\n데이터 타입의 구분\\n<한개의 값을 저장하는 타입>\\n- 일반변수라고 한다\\n- int, str, float, bool\\n\\n<여러개의 값을 저장하는 타입>\\n- List, Dict, Tuple, DataFrame\\n'"
      ]
     },
     "execution_count": 59,
     "metadata": {},
     "output_type": "execute_result"
    }
   ],
   "source": [
    "\"\"\"\n",
    "데이터 타입의 구분\n",
    "<한개의 값을 저장하는 타입>\n",
    "- 일반변수라고 한다\n",
    "- int, str, float, bool\n",
    "\n",
    "<여러개의 값을 저장하는 타입>\n",
    "- List, Dict, Tuple, DataFrame\n",
    "\"\"\"\n"
   ]
  },
  {
   "cell_type": "code",
   "execution_count": 60,
   "metadata": {},
   "outputs": [
    {
     "name": "stdout",
     "output_type": "stream",
     "text": [
      "10\n",
      "aaa\n",
      "10.5\n"
     ]
    }
   ],
   "source": [
    "### < 한개의 값을 저장하는 타입>\n",
    "# 타입이 정해지는 시점: 값이 정의 될 때\n",
    "# 하나의 변수에 여러 타입을 수정해서 넣을 수 있다.\n",
    "# 파이썬에서는 '=' 을 할당연산자라고 한다.\n",
    "\n",
    "### a라는 변수에 10이라는 정수값을 넣어라\n",
    "# 하나의 메모리 공간에 10이라는 값을 넣어서, 메모리 주소를 a라는 변수에 넣는다.(파이썬 입장해석)\n",
    "\n",
    "a = 10\n",
    "print(a)\n",
    "a = \"aaa\"\n",
    "print(a)\n",
    "a = 10.5\n",
    "print(a)\n",
    "a = True"
   ]
  },
  {
   "cell_type": "code",
   "execution_count": 61,
   "metadata": {},
   "outputs": [
    {
     "data": {
      "text/plain": [
       "[10, 'aaa', 10.5, True]"
      ]
     },
     "execution_count": 61,
     "metadata": {},
     "output_type": "execute_result"
    }
   ],
   "source": [
    "# <여러개의 값을 저장하는 타입>\n",
    "# - List, Dict, Tuple, DataFrame\n",
    "# 사용하는 기호에 따른 구분\n",
    "# - List: [] -> 여러 자료형의 데이터를 담을 수 있음 (순서 = index가 있음)\n",
    "# - Dict: {} -> 여러 자료형의 데이터를 key : value 형태로 담을 수 있음(순서가 없음)\n",
    "# - Tuple: () -> 리스트와 동일하게 사용되며, 다만 수정을 못한다는 차이점만 있음\n",
    "\n",
    "a_list = [10, \"aaa\", 10.5, True] # 전체 메모리 차지 공간은 5개이다.\n",
    "a_list"
   ]
  },
  {
   "cell_type": "code",
   "execution_count": 62,
   "metadata": {},
   "outputs": [
    {
     "data": {
      "text/plain": [
       "'aaa'"
      ]
     },
     "execution_count": 62,
     "metadata": {},
     "output_type": "execute_result"
    }
   ],
   "source": [
    "a = 20\n",
    "b_list = [a,a_list]\n",
    "b_list[1][1]"
   ]
  },
  {
   "cell_type": "code",
   "execution_count": 63,
   "metadata": {},
   "outputs": [
    {
     "data": {
      "text/plain": [
       "'abc'"
      ]
     },
     "execution_count": 63,
     "metadata": {},
     "output_type": "execute_result"
    }
   ],
   "source": [
    "a_str = \"abcde\"\n",
    "a_str[0], a_str[1]\n",
    "a_str[0:3]"
   ]
  },
  {
   "cell_type": "code",
   "execution_count": 64,
   "metadata": {},
   "outputs": [
    {
     "data": {
      "text/plain": [
       "{'name': '장경호', 'age': 29, 'area': '거제통'}"
      ]
     },
     "execution_count": 64,
     "metadata": {},
     "output_type": "execute_result"
    }
   ],
   "source": [
    "# 메모리 공간 10개 데이터값은 3개\n",
    "dict_data = {\"name\" : \"장경호\", \"age\" : 29, \"area\" : \"거제통\"}\n",
    "# dict_data['add'] = \"일광\"\n",
    "# dict_data[\"name\"] = \"한국진\"\n",
    "dict_data"
   ]
  },
  {
   "cell_type": "code",
   "execution_count": 65,
   "metadata": {},
   "outputs": [],
   "source": [
    "b_list.append(\"임경세\")"
   ]
  },
  {
   "cell_type": "code",
   "execution_count": 66,
   "metadata": {},
   "outputs": [
    {
     "data": {
      "text/plain": [
       "[20, [10, 'aaa', 10.5, True], '임경세']"
      ]
     },
     "execution_count": 66,
     "metadata": {},
     "output_type": "execute_result"
    }
   ],
   "source": [
    "b_list"
   ]
  },
  {
   "cell_type": "code",
   "execution_count": 67,
   "metadata": {},
   "outputs": [
    {
     "data": {
      "text/plain": [
       "dict_keys(['name', 'age', 'area'])"
      ]
     },
     "execution_count": 67,
     "metadata": {},
     "output_type": "execute_result"
    }
   ],
   "source": [
    "## 딕셔너리 -> key값 조회하기\n",
    "dict_data.keys()"
   ]
  },
  {
   "cell_type": "code",
   "execution_count": 68,
   "metadata": {},
   "outputs": [
    {
     "data": {
      "text/plain": [
       "dict_values(['장경호', 29, '거제통'])"
      ]
     },
     "execution_count": 68,
     "metadata": {},
     "output_type": "execute_result"
    }
   ],
   "source": [
    "dict_data.values()"
   ]
  },
  {
   "cell_type": "code",
   "execution_count": 69,
   "metadata": {},
   "outputs": [
    {
     "data": {
      "text/plain": [
       "dict_items([('name', '장경호'), ('age', 29), ('area', '거제통')])"
      ]
     },
     "execution_count": 69,
     "metadata": {},
     "output_type": "execute_result"
    }
   ],
   "source": [
    "dict_data.items()"
   ]
  },
  {
   "cell_type": "code",
   "execution_count": 70,
   "metadata": {},
   "outputs": [
    {
     "data": {
      "text/plain": [
       "4"
      ]
     },
     "execution_count": 70,
     "metadata": {},
     "output_type": "execute_result"
    }
   ],
   "source": [
    "a_list\n",
    "len(a_list)"
   ]
  },
  {
   "cell_type": "code",
   "execution_count": 71,
   "metadata": {},
   "outputs": [
    {
     "name": "stdout",
     "output_type": "stream",
     "text": [
      "10\n",
      "aaa\n",
      "10.5\n",
      "True\n"
     ]
    }
   ],
   "source": [
    "## a_list의 값들을 for 반복문을 이용해서 출력하기.\n",
    "# 반복문 사용방법 1: 인덱스 번호를 이용하는 방법\n",
    "# for(int i = 0; i<10; i++)\n",
    "for i in range(0, len(a_list), 1): # 0부터 10까지 1씩 증가 시켜라\n",
    "    print(a_list[i])"
   ]
  },
  {
   "cell_type": "code",
   "execution_count": 72,
   "metadata": {},
   "outputs": [
    {
     "name": "stdout",
     "output_type": "stream",
     "text": [
      "10\n",
      "aaa\n",
      "10.5\n",
      "True\n"
     ]
    }
   ],
   "source": [
    "# 반복문 사용방법 2: 값을 이용하는 방법\n",
    "for v in a_list: # 0부터 10까지 1씩 증가 시켜라\n",
    "    print(v)"
   ]
  },
  {
   "cell_type": "code",
   "execution_count": 73,
   "metadata": {},
   "outputs": [
    {
     "data": {
      "text/plain": [
       "{'name': '장경호', 'age': 29, 'area': '거제통'}"
      ]
     },
     "execution_count": 73,
     "metadata": {},
     "output_type": "execute_result"
    }
   ],
   "source": [
    "dict_data"
   ]
  },
  {
   "cell_type": "code",
   "execution_count": 74,
   "metadata": {},
   "outputs": [
    {
     "name": "stdout",
     "output_type": "stream",
     "text": [
      "장경호\n",
      "29\n",
      "거제통\n"
     ]
    }
   ],
   "source": [
    "for i in dict_data.values():\n",
    "    print(i)"
   ]
  },
  {
   "cell_type": "code",
   "execution_count": 75,
   "metadata": {},
   "outputs": [
    {
     "name": "stdout",
     "output_type": "stream",
     "text": [
      "장경호\n",
      "29\n",
      "거제통\n"
     ]
    }
   ],
   "source": [
    "for k in dict_data.keys():\n",
    "    print(dict_data[k])"
   ]
  },
  {
   "cell_type": "code",
   "execution_count": 76,
   "metadata": {},
   "outputs": [
    {
     "name": "stdout",
     "output_type": "stream",
     "text": [
      "name = 장경호\n",
      "age = 29\n",
      "area = 거제통\n"
     ]
    }
   ],
   "source": [
    "for k in dict_data.keys():\n",
    "    print(f'{k} = {dict_data[k]}')"
   ]
  },
  {
   "cell_type": "code",
   "execution_count": 77,
   "metadata": {},
   "outputs": [
    {
     "data": {
      "text/plain": [
       "dict_items([('name', '장경호'), ('age', 29), ('area', '거제통')])"
      ]
     },
     "execution_count": 77,
     "metadata": {},
     "output_type": "execute_result"
    }
   ],
   "source": [
    "dict_data.items()"
   ]
  },
  {
   "cell_type": "code",
   "execution_count": 78,
   "metadata": {},
   "outputs": [
    {
     "data": {
      "text/plain": [
       "('abc', 'def')"
      ]
     },
     "execution_count": 78,
     "metadata": {},
     "output_type": "execute_result"
    }
   ],
   "source": [
    "'abc','def'"
   ]
  },
  {
   "cell_type": "code",
   "execution_count": 79,
   "metadata": {},
   "outputs": [
    {
     "name": "stdout",
     "output_type": "stream",
     "text": [
      "name 장경호\n",
      "age 29\n",
      "area 거제통\n"
     ]
    }
   ],
   "source": [
    "for k, v in dict_data.items():\n",
    "    print(k,v)"
   ]
  },
  {
   "cell_type": "markdown",
   "metadata": {},
   "source": [
    "## 함수"
   ]
  },
  {
   "cell_type": "code",
   "execution_count": 80,
   "metadata": {},
   "outputs": [
    {
     "data": {
      "text/plain": [
       "'\\n<함수(funtion, method, def)>\\n- 자주 반복해서 사용되는 프로그램을 미리 정의해 놓고 호출헤서 사용 (재사용성)\\n- 값을 전달 받을 수 있고, 반환(return)할 수도 있다\\n- 함수는 함수명, 매개변수들, 반환값(return)으로 정의한다.\\n- 특정 기능을 수행하는 용도로 사용하며, 함수 내에서는 값들을 가급적 정의하지 않습니다.(매개변수는 제외)\\n\\n< 함수를 생성하는 순서>\\n- 절차적 프로그램으로 사전에 테스트\\n- 테스트 시 오류가 없는 경우\\n- 정의된 함수에 프로그램 코드를 가급적 copy하여 넣기\\n- 최종 호출하며 테스트\\n'"
      ]
     },
     "execution_count": 80,
     "metadata": {},
     "output_type": "execute_result"
    }
   ],
   "source": [
    "'''\n",
    "<함수(funtion, method, def)>\n",
    "- 자주 반복해서 사용되는 프로그램을 미리 정의해 놓고 호출헤서 사용 (재사용성)\n",
    "- 값을 전달 받을 수 있고, 반환(return)할 수도 있다\n",
    "- 함수는 함수명, 매개변수들, 반환값(return)으로 정의한다.\n",
    "- 특정 기능을 수행하는 용도로 사용하며, 함수 내에서는 값들을 가급적 정의하지 않습니다.(매개변수는 제외)\n",
    "\n",
    "< 함수를 생성하는 순서>\n",
    "- 절차적 프로그램으로 사전에 테스트\n",
    "- 테스트 시 오류가 없는 경우\n",
    "- 정의된 함수에 프로그램 코드를 가급적 copy하여 넣기\n",
    "- 최종 호출하며 테스트\n",
    "'''\n"
   ]
  },
  {
   "cell_type": "code",
   "execution_count": 81,
   "metadata": {},
   "outputs": [
    {
     "name": "stdout",
     "output_type": "stream",
     "text": [
      "test ㄴㅇㄹㅁㄴㅇㄹㅁㄴ\n"
     ]
    }
   ],
   "source": [
    "print('test','ㄴㅇㄹㅁㄴㅇㄹㅁㄴ')"
   ]
  },
  {
   "cell_type": "code",
   "execution_count": 82,
   "metadata": {},
   "outputs": [
    {
     "data": {
      "text/plain": [
       "1"
      ]
     },
     "execution_count": 82,
     "metadata": {},
     "output_type": "execute_result"
    }
   ],
   "source": [
    "# 입력을 받는 주소가 있어야함\n",
    "# input은 문자열타입으로 출력된다.\n",
    "a = int(input('번호를 입력하세요: '))\n",
    "a"
   ]
  },
  {
   "cell_type": "code",
   "execution_count": 83,
   "metadata": {},
   "outputs": [
    {
     "name": "stdout",
     "output_type": "stream",
     "text": [
      "3\n"
     ]
    }
   ],
   "source": [
    "## 두개의 값을 각각 입력 받아서 더한 값을 출력\n",
    "a = int(input('숫자를 입력하세요'))\n",
    "b = int(input('두 번째 숫자를 입력하세요'))\n",
    "print(a+b)"
   ]
  },
  {
   "cell_type": "code",
   "execution_count": 84,
   "metadata": {},
   "outputs": [],
   "source": [
    "## 함수로 만들기\n",
    "# - 두개의 함수를 만듭니다.\n",
    "#   -> 한개 함수는 두개의 정수값을 각각 입력받는 함수\n",
    "#   -> 두번쩨 함수는 두개의 정수값을 합산하는 함수\n",
    "#   -> 세 번째 함수를 만들어서 위 두개의 함수를 각각 호출해서 최종합산 결과를 출력하세요."
   ]
  },
  {
   "cell_type": "code",
   "execution_count": 85,
   "metadata": {},
   "outputs": [],
   "source": [
    "def a(x,y):\n",
    "    x = int(input('첫 번째숫자를 입력하세요'))\n",
    "    y = int(input('두 번째숫자를 입력하세요'))\n",
    "    \n",
    "def sum(s):\n",
    "    s = a(x +y)\n",
    "    return s"
   ]
  },
  {
   "cell_type": "code",
   "execution_count": 86,
   "metadata": {},
   "outputs": [],
   "source": [
    "def c():\n",
    "    a(x + y)\n",
    "    print"
   ]
  },
  {
   "cell_type": "code",
   "execution_count": 87,
   "metadata": {},
   "outputs": [],
   "source": [
    "def setInput():\n",
    "    a = int(input('첫번째 숫자 입력:'))\n",
    "    b = int(input('첫번째 숫자 입력:'))\n",
    "    return a,b"
   ]
  },
  {
   "cell_type": "code",
   "execution_count": 88,
   "metadata": {},
   "outputs": [],
   "source": [
    "def getplus(a1,b1):\n",
    "    return a1 + b1\n",
    "\n",
    "# setInput()"
   ]
  },
  {
   "cell_type": "code",
   "execution_count": 89,
   "metadata": {},
   "outputs": [],
   "source": [
    "def processMain():\n",
    "    a,b = setInput()\n",
    "    sum = getplus(a,b)\n",
    "    print(f'a + b = sum : {a} + {b} = {sum}')"
   ]
  },
  {
   "cell_type": "code",
   "execution_count": 90,
   "metadata": {},
   "outputs": [
    {
     "name": "stdout",
     "output_type": "stream",
     "text": [
      "a + b = sum : 1 + 2 = 3\n"
     ]
    }
   ],
   "source": [
    "processMain()"
   ]
  },
  {
   "cell_type": "code",
   "execution_count": 91,
   "metadata": {},
   "outputs": [],
   "source": [
    "## 두개의 값을 전달 받아서 더하는 함수 생성하기\n",
    "# 단, 두번째 매개변수의 값은 디폴트 2를 사용\n",
    "#  호출 시 인자(전달하는 값)는 1개만 사용"
   ]
  },
  {
   "cell_type": "code",
   "execution_count": 92,
   "metadata": {},
   "outputs": [],
   "source": [
    "def getPlus2(a1, b1=2):\n",
    "    return a1 + b1"
   ]
  },
  {
   "cell_type": "code",
   "execution_count": 93,
   "metadata": {},
   "outputs": [
    {
     "data": {
      "text/plain": [
       "4"
      ]
     },
     "execution_count": 93,
     "metadata": {},
     "output_type": "execute_result"
    }
   ],
   "source": [
    "getPlus2(2)"
   ]
  },
  {
   "cell_type": "code",
   "execution_count": 94,
   "metadata": {},
   "outputs": [],
   "source": [
    "#  함수를 생성 \n",
    "#  매개변수가 몇개 들어올지 모름\n",
    "# 전달받은 개새변수들을 모두 출력\n",
    "#  함수 내에서 print를 사용"
   ]
  },
  {
   "cell_type": "code",
   "execution_count": 95,
   "metadata": {},
   "outputs": [],
   "source": [
    "# *은 모든 것을 의미한다.\n",
    "def printMethod(*args):\n",
    "    print(args)"
   ]
  },
  {
   "cell_type": "code",
   "execution_count": 96,
   "metadata": {},
   "outputs": [
    {
     "name": "stdout",
     "output_type": "stream",
     "text": [
      "(1, 2, 3, 4, 5, 6, 7, 8, 9, 10)\n"
     ]
    }
   ],
   "source": [
    "printMethod(1,2,3,4,5,6,7,8,9,10)"
   ]
  },
  {
   "cell_type": "code",
   "execution_count": 99,
   "metadata": {},
   "outputs": [],
   "source": [
    "'''\n",
    "<클래스>\n",
    "- 여러 기능 또는 여러 변수들을 정의해서 사용하는 객체\n",
    "- 하나의 클래스는 여러 기능을 대표할 수 있는 형태들의 모임이라고 생각하면 됨\n",
    "- 클래스 이름은 대문자로 시작\n",
    "- 클래스 내에서 정의하는 모든 함수의 매개변수는 self가 필수(첫번째 매개변수에 무조건!)\n",
    "- self : 클래스 내에 있는 모든 멤버에 접근할 수 있는 객체를 의미\n",
    "- 클래스 내에서 함수를 호출할 때에는 self를 이용해서 함수를 호출해야합니다.(함수는 자동으로 멤버가 됩니다.)\n",
    "'''\n",
    "\n",
    "class Math:\n",
    "    ### 클래스 생성자\n",
    "    # - 클래스 생성시 초기화 할 값이나, 함수 호출 시 사용\n",
    "    # - 최초에 초기화할 값이 없거나 호출할 함수가 없으면 생략가능\n",
    "    # - 생략하는 경우 -> 외부에서 클래스 생성시, default 생성자가 자동으로 호출\n",
    "    # - 생생성자의 호출: 클래스를 메모리에 올리는 작업을 수행함(메모리 주소흫 발급함)\n",
    "    def __init__(self,a,b):\n",
    "        self.a = a\n",
    "        self.b = b\n",
    "        self.getPlus()\n",
    "        \n",
    "    def setData(self,a,b):\n",
    "        self.a = a\n",
    "        self.b = b\n",
    "        \n",
    "    def getPlus(self):\n",
    "        self.sum = self.a + self.b\n",
    "        return self.sum"
   ]
  },
  {
   "cell_type": "code",
   "execution_count": 100,
   "metadata": {},
   "outputs": [
    {
     "data": {
      "text/plain": [
       "40"
      ]
     },
     "execution_count": 100,
     "metadata": {},
     "output_type": "execute_result"
    }
   ],
   "source": [
    "##클래스 생성후 > 두개의 데이터를 전달하여 > 더한값을 출력\n",
    "math = Math(10,30)\n",
    "# math.setData(1,2)\n",
    "math.sum\n",
    "# math.getPlus()  # 둘다 사용해도 상관없음"
   ]
  },
  {
   "cell_type": "code",
   "execution_count": 103,
   "metadata": {},
   "outputs": [
    {
     "data": {
      "text/plain": [
       "50"
      ]
     },
     "execution_count": 103,
     "metadata": {},
     "output_type": "execute_result"
    }
   ],
   "source": [
    "math = Math(20,30)\n",
    "math.sum\n",
    "math.getPlus()"
   ]
  },
  {
   "cell_type": "code",
   "execution_count": 104,
   "metadata": {},
   "outputs": [],
   "source": [
    "''' \n",
    "구구단을 출력 클래스 생성하기\n",
    "- 단과 숫자 두개를 입력받아서 입력된 단과 숫자 만큼만 구구단을 출력하도록 하기\n",
    "'''\n",
    "\n",
    "class GuguDan:\n",
    "    def __init__(self,dan, num):\n",
    "        self.dan = dan\n",
    "        self.num = num\n",
    "        self.printGuguDan()\n",
    "        \n",
    "    def printGuguDan(self):\n",
    "        for i in range(1, self.num + 1):\n",
    "            print(f'{self.dan} * {i} = {self.dan * i}')"
   ]
  },
  {
   "cell_type": "code",
   "execution_count": 105,
   "metadata": {},
   "outputs": [
    {
     "name": "stdout",
     "output_type": "stream",
     "text": [
      "3 * 1 = 3\n",
      "3 * 2 = 6\n",
      "3 * 3 = 9\n",
      "3 * 4 = 12\n",
      "3 * 5 = 15\n",
      "3 * 6 = 18\n",
      "3 * 7 = 21\n",
      "3 * 8 = 24\n",
      "3 * 9 = 27\n",
      "3 * 10 = 30\n"
     ]
    },
    {
     "data": {
      "text/plain": [
       "<__main__.GuguDan at 0x10469c620>"
      ]
     },
     "execution_count": 105,
     "metadata": {},
     "output_type": "execute_result"
    }
   ],
   "source": [
    "GuguDan(3, 10)"
   ]
  }
 ],
 "metadata": {
  "kernelspec": {
   "display_name": "Python 3",
   "language": "python",
   "name": "python3"
  },
  "language_info": {
   "codemirror_mode": {
    "name": "ipython",
    "version": 3
   },
   "file_extension": ".py",
   "mimetype": "text/x-python",
   "name": "python",
   "nbconvert_exporter": "python",
   "pygments_lexer": "ipython3",
   "version": "3.12.2"
  }
 },
 "nbformat": 4,
 "nbformat_minor": 2
}
